{
 "cells": [
  {
   "cell_type": "code",
   "execution_count": 2,
   "metadata": {},
   "outputs": [],
   "source": [
    "import os\n",
    "import numpy as np\n",
    "import pandas as pd\n",
    "import matplotlib.pyplot as plt\n",
    "import pickle\n",
    "\n",
    "from PIL import Image\n",
    "from tqdm import tqdm\n",
    "from skimage.feature import hog\n",
    "from sklearn.cluster import KMeans"
   ]
  },
  {
   "cell_type": "code",
   "execution_count": 34,
   "metadata": {},
   "outputs": [],
   "source": [
    "def load_dataset(set_name, labels=None, max_per_label=None, resize=None):\n",
    "    np.random.seed(0)\n",
    "    dataset_path = '../datasets/wbc/raw/{}'.format(set_name)\n",
    "    print('Loading dataset from `{}`'.format(dataset_path))\n",
    "    \n",
    "    images, metadata = [], []\n",
    "    if labels is None:\n",
    "        labels = os.listdir(dataset_path)\n",
    "    elif isinstance(labels, str):\n",
    "        labels = [labels]\n",
    "    elif not isinstance(labels, list):\n",
    "        raise ValueError('labels must be a list of strings')\n",
    "\n",
    "    for label in labels:\n",
    "        label_path = f'{dataset_path}/{label}'\n",
    "        fnames = os.listdir(label_path)\n",
    "        if max_per_label is not None:\n",
    "            count = min(max_per_label, len(fnames))\n",
    "            fnames = np.random.choice(fnames, count, replace=False)\n",
    "        \n",
    "        df = []\n",
    "        print('> Loading', label, 'class')\n",
    "        for fname in tqdm(fnames):\n",
    "            img_path = f'{label_path}/{fname}'\n",
    "            data_dict = {'image_path': img_path, 'label': label}\n",
    "            image = Image.open(img_path)\n",
    "            if resize is not None:\n",
    "                image = image.resize(resize)\n",
    "            image = np.array(image)\n",
    "\n",
    "            df.append(data_dict)\n",
    "            images.append(image)\n",
    "\n",
    "        df = pd.DataFrame(df)\n",
    "        metadata.append(df)\n",
    "\n",
    "    metadata = pd.concat(metadata).reset_index(drop=True)\n",
    "    images = np.array(images)\n",
    "    return images, metadata"
   ]
  },
  {
   "cell_type": "code",
   "execution_count": 35,
   "metadata": {},
   "outputs": [
    {
     "name": "stderr",
     "output_type": "stream",
     "text": [
      "c:\\Users\\asus_\\AppData\\Local\\Programs\\Python\\Python39\\lib\\site-packages\\sklearn\\base.py:329: UserWarning: Trying to unpickle estimator KMeans from version 1.0.1 when using version 1.1.3. This might lead to breaking code or invalid results. Use at your own risk. For more info please refer to:\n",
      "https://scikit-learn.org/stable/model_persistence.html#security-maintainability-limitations\n",
      "  warnings.warn(\n"
     ]
    }
   ],
   "source": [
    "with open('./kmeans_model_5.pk', 'rb') as f:\n",
    "    kmeans_5 = pickle.load(f)"
   ]
  },
  {
   "cell_type": "code",
   "execution_count": 57,
   "metadata": {},
   "outputs": [],
   "source": [
    "def rgb_to_ggb(img, contrast = 1.7):\n",
    "    image = img.copy()\n",
    "    g_contrast = np.minimum(255, image[:, :, 1] * contrast)\n",
    "    image[:, :, 1] = g_contrast\n",
    "    image[:, :, 0] = g_contrast\n",
    "    return image\n",
    "\n",
    "def extract_hog_features(dataset, metadata, prep='plain', split_set='train', labels=None, **hog_kwargs):\n",
    "    if labels is None:\n",
    "        labels = sorted(metadata.label.unique())\n",
    "    elif isinstance(labels, str):\n",
    "        labels = [labels]\n",
    "    elif not isinstance(labels, list):\n",
    "        raise ValueError('labels must be a string or a list of strings')\n",
    "\n",
    "    for label in labels:\n",
    "        hog_features = []\n",
    "        print(f'> Extracting HOG features for {split_set} set, {label} class')\n",
    "        for img in tqdm(dataset[metadata.label == label]):\n",
    "            ggb = img.copy()\n",
    "            if prep == 'ggb':\n",
    "                ggb = rgb_to_ggb(img)\n",
    "            elif prep == 'segm':\n",
    "                ggb = rgb_to_ggb(img)\n",
    "                clusters = kmeans_5.predict(ggb.reshape(-1, 3))\n",
    "                ggb = kmeans_5.cluster_centers_[clusters].reshape(img.shape)\n",
    "                ggb = ggb.round().astype(np.uint8)\n",
    "\n",
    "            fd = hog(ggb, channel_axis=2, **hog_kwargs)\n",
    "            hog_features.append(fd)\n",
    "        \n",
    "        hog_features = np.array(hog_features)\n",
    "        filename = f'../datasets/wbc/clean/hog_features_{prep}_{split_set}_{label}.npz'\n",
    "        np.savez_compressed(filename, hog_features)"
   ]
  },
  {
   "cell_type": "code",
   "execution_count": 51,
   "metadata": {},
   "outputs": [
    {
     "name": "stdout",
     "output_type": "stream",
     "text": [
      "Loading dataset from `../datasets/wbc/raw/Train`\n",
      "> Loading Basophil class\n"
     ]
    },
    {
     "name": "stderr",
     "output_type": "stream",
     "text": [
      "100%|██████████| 212/212 [00:01<00:00, 136.51it/s]\n"
     ]
    },
    {
     "name": "stdout",
     "output_type": "stream",
     "text": [
      "> Loading Eosinophil class\n"
     ]
    },
    {
     "name": "stderr",
     "output_type": "stream",
     "text": [
      "100%|██████████| 744/744 [00:04<00:00, 184.44it/s]\n"
     ]
    },
    {
     "name": "stdout",
     "output_type": "stream",
     "text": [
      "> Loading Lymphocyte class\n"
     ]
    },
    {
     "name": "stderr",
     "output_type": "stream",
     "text": [
      "100%|██████████| 2427/2427 [00:13<00:00, 180.76it/s]\n"
     ]
    },
    {
     "name": "stdout",
     "output_type": "stream",
     "text": [
      "> Loading Monocyte class\n"
     ]
    },
    {
     "name": "stderr",
     "output_type": "stream",
     "text": [
      "100%|██████████| 561/561 [00:03<00:00, 174.95it/s]\n"
     ]
    },
    {
     "name": "stdout",
     "output_type": "stream",
     "text": [
      "> Loading Neutrophil class\n"
     ]
    },
    {
     "name": "stderr",
     "output_type": "stream",
     "text": [
      "100%|██████████| 6231/6231 [00:33<00:00, 184.04it/s]\n"
     ]
    },
    {
     "name": "stdout",
     "output_type": "stream",
     "text": [
      "Loading dataset from `../datasets/wbc/raw/TestA`\n",
      "> Loading Basophil class\n"
     ]
    },
    {
     "name": "stderr",
     "output_type": "stream",
     "text": [
      "100%|██████████| 89/89 [00:00<00:00, 154.14it/s]\n"
     ]
    },
    {
     "name": "stdout",
     "output_type": "stream",
     "text": [
      "> Loading Eosinophil class\n"
     ]
    },
    {
     "name": "stderr",
     "output_type": "stream",
     "text": [
      "100%|██████████| 322/322 [00:01<00:00, 165.32it/s]\n"
     ]
    },
    {
     "name": "stdout",
     "output_type": "stream",
     "text": [
      "> Loading Lymphocyte class\n"
     ]
    },
    {
     "name": "stderr",
     "output_type": "stream",
     "text": [
      "100%|██████████| 1034/1034 [00:05<00:00, 202.62it/s]\n"
     ]
    },
    {
     "name": "stdout",
     "output_type": "stream",
     "text": [
      "> Loading Monocyte class\n"
     ]
    },
    {
     "name": "stderr",
     "output_type": "stream",
     "text": [
      "100%|██████████| 234/234 [00:01<00:00, 198.05it/s]\n"
     ]
    },
    {
     "name": "stdout",
     "output_type": "stream",
     "text": [
      "> Loading Neutrophil class\n"
     ]
    },
    {
     "name": "stderr",
     "output_type": "stream",
     "text": [
      "100%|██████████| 2660/2660 [00:13<00:00, 197.50it/s]\n"
     ]
    }
   ],
   "source": [
    "labels = ['Basophil', 'Eosinophil', 'Lymphocyte', 'Monocyte', 'Neutrophil']\n",
    "\n",
    "train_images, train_metadata = load_dataset(set_name='Train', labels=labels, resize=(64, 64))\n",
    "test_images, test_metadata = load_dataset(set_name='TestA', labels=labels, resize=(64, 64))\n"
   ]
  },
  {
   "cell_type": "code",
   "execution_count": 54,
   "metadata": {},
   "outputs": [
    {
     "name": "stdout",
     "output_type": "stream",
     "text": [
      "> Extracting HOG features for train set, Basophil class\n"
     ]
    },
    {
     "name": "stderr",
     "output_type": "stream",
     "text": [
      "100%|██████████| 212/212 [00:00<00:00, 364.56it/s]\n"
     ]
    },
    {
     "name": "stdout",
     "output_type": "stream",
     "text": [
      "> Extracting HOG features for train set, Eosinophil class\n"
     ]
    },
    {
     "name": "stderr",
     "output_type": "stream",
     "text": [
      "100%|██████████| 744/744 [00:01<00:00, 446.45it/s]\n"
     ]
    },
    {
     "name": "stdout",
     "output_type": "stream",
     "text": [
      "> Extracting HOG features for train set, Lymphocyte class\n"
     ]
    },
    {
     "name": "stderr",
     "output_type": "stream",
     "text": [
      "100%|██████████| 2427/2427 [00:05<00:00, 484.52it/s]\n"
     ]
    },
    {
     "name": "stdout",
     "output_type": "stream",
     "text": [
      "> Extracting HOG features for train set, Monocyte class\n"
     ]
    },
    {
     "name": "stderr",
     "output_type": "stream",
     "text": [
      "100%|██████████| 561/561 [00:01<00:00, 476.17it/s]\n"
     ]
    },
    {
     "name": "stdout",
     "output_type": "stream",
     "text": [
      "> Extracting HOG features for train set, Neutrophil class\n"
     ]
    },
    {
     "name": "stderr",
     "output_type": "stream",
     "text": [
      "100%|██████████| 6231/6231 [00:12<00:00, 495.67it/s]\n"
     ]
    },
    {
     "name": "stdout",
     "output_type": "stream",
     "text": [
      "> Extracting HOG features for test set, Basophil class\n"
     ]
    },
    {
     "name": "stderr",
     "output_type": "stream",
     "text": [
      "100%|██████████| 89/89 [00:00<00:00, 491.53it/s]\n"
     ]
    },
    {
     "name": "stdout",
     "output_type": "stream",
     "text": [
      "> Extracting HOG features for test set, Eosinophil class\n"
     ]
    },
    {
     "name": "stderr",
     "output_type": "stream",
     "text": [
      "100%|██████████| 322/322 [00:00<00:00, 428.78it/s]\n"
     ]
    },
    {
     "name": "stdout",
     "output_type": "stream",
     "text": [
      "> Extracting HOG features for test set, Lymphocyte class\n"
     ]
    },
    {
     "name": "stderr",
     "output_type": "stream",
     "text": [
      "100%|██████████| 1034/1034 [00:02<00:00, 477.71it/s]\n"
     ]
    },
    {
     "name": "stdout",
     "output_type": "stream",
     "text": [
      "> Extracting HOG features for test set, Monocyte class\n"
     ]
    },
    {
     "name": "stderr",
     "output_type": "stream",
     "text": [
      "100%|██████████| 234/234 [00:01<00:00, 159.39it/s]\n"
     ]
    },
    {
     "name": "stdout",
     "output_type": "stream",
     "text": [
      "> Extracting HOG features for test set, Neutrophil class\n"
     ]
    },
    {
     "name": "stderr",
     "output_type": "stream",
     "text": [
      "100%|██████████| 2660/2660 [00:13<00:00, 201.70it/s]\n"
     ]
    }
   ],
   "source": [
    "extract_hog_features(train_images, train_metadata, split_set='train', prep='plain')\n",
    "extract_hog_features(test_images, test_metadata, split_set='test', prep='plain')"
   ]
  },
  {
   "cell_type": "code",
   "execution_count": 58,
   "metadata": {},
   "outputs": [
    {
     "name": "stdout",
     "output_type": "stream",
     "text": [
      "> Extracting HOG features for train set, Basophil class\n"
     ]
    },
    {
     "name": "stderr",
     "output_type": "stream",
     "text": [
      "100%|██████████| 212/212 [00:00<00:00, 482.48it/s]\n"
     ]
    },
    {
     "name": "stdout",
     "output_type": "stream",
     "text": [
      "> Extracting HOG features for train set, Eosinophil class\n"
     ]
    },
    {
     "name": "stderr",
     "output_type": "stream",
     "text": [
      "100%|██████████| 744/744 [00:01<00:00, 421.48it/s]\n"
     ]
    },
    {
     "name": "stdout",
     "output_type": "stream",
     "text": [
      "> Extracting HOG features for train set, Lymphocyte class\n"
     ]
    },
    {
     "name": "stderr",
     "output_type": "stream",
     "text": [
      "100%|██████████| 2427/2427 [00:05<00:00, 408.97it/s]\n"
     ]
    },
    {
     "name": "stdout",
     "output_type": "stream",
     "text": [
      "> Extracting HOG features for train set, Monocyte class\n"
     ]
    },
    {
     "name": "stderr",
     "output_type": "stream",
     "text": [
      "100%|██████████| 561/561 [00:01<00:00, 446.68it/s]\n"
     ]
    },
    {
     "name": "stdout",
     "output_type": "stream",
     "text": [
      "> Extracting HOG features for train set, Neutrophil class\n"
     ]
    },
    {
     "name": "stderr",
     "output_type": "stream",
     "text": [
      "100%|██████████| 6231/6231 [00:13<00:00, 465.85it/s]\n"
     ]
    },
    {
     "name": "stdout",
     "output_type": "stream",
     "text": [
      "> Extracting HOG features for test set, Basophil class\n"
     ]
    },
    {
     "name": "stderr",
     "output_type": "stream",
     "text": [
      "100%|██████████| 89/89 [00:00<00:00, 520.51it/s]\n"
     ]
    },
    {
     "name": "stdout",
     "output_type": "stream",
     "text": [
      "> Extracting HOG features for test set, Eosinophil class\n"
     ]
    },
    {
     "name": "stderr",
     "output_type": "stream",
     "text": [
      "100%|██████████| 322/322 [00:00<00:00, 371.49it/s]\n"
     ]
    },
    {
     "name": "stdout",
     "output_type": "stream",
     "text": [
      "> Extracting HOG features for test set, Lymphocyte class\n"
     ]
    },
    {
     "name": "stderr",
     "output_type": "stream",
     "text": [
      "100%|██████████| 1034/1034 [00:02<00:00, 487.91it/s]\n"
     ]
    },
    {
     "name": "stdout",
     "output_type": "stream",
     "text": [
      "> Extracting HOG features for test set, Monocyte class\n"
     ]
    },
    {
     "name": "stderr",
     "output_type": "stream",
     "text": [
      "100%|██████████| 234/234 [00:00<00:00, 440.12it/s]\n"
     ]
    },
    {
     "name": "stdout",
     "output_type": "stream",
     "text": [
      "> Extracting HOG features for test set, Neutrophil class\n"
     ]
    },
    {
     "name": "stderr",
     "output_type": "stream",
     "text": [
      "100%|██████████| 2660/2660 [00:05<00:00, 480.43it/s]\n"
     ]
    }
   ],
   "source": [
    "extract_hog_features(train_images, train_metadata, split_set='train', prep='ggb')\n",
    "extract_hog_features(test_images, test_metadata, split_set='test', prep='ggb')"
   ]
  },
  {
   "cell_type": "code",
   "execution_count": 59,
   "metadata": {},
   "outputs": [
    {
     "name": "stdout",
     "output_type": "stream",
     "text": [
      "> Extracting HOG features for train set, Basophil class\n"
     ]
    },
    {
     "name": "stderr",
     "output_type": "stream",
     "text": [
      "100%|██████████| 212/212 [00:00<00:00, 241.35it/s]\n"
     ]
    },
    {
     "name": "stdout",
     "output_type": "stream",
     "text": [
      "> Extracting HOG features for train set, Eosinophil class\n"
     ]
    },
    {
     "name": "stderr",
     "output_type": "stream",
     "text": [
      "100%|██████████| 744/744 [00:03<00:00, 240.26it/s]\n"
     ]
    },
    {
     "name": "stdout",
     "output_type": "stream",
     "text": [
      "> Extracting HOG features for train set, Lymphocyte class\n"
     ]
    },
    {
     "name": "stderr",
     "output_type": "stream",
     "text": [
      "100%|██████████| 2427/2427 [00:09<00:00, 243.62it/s]\n"
     ]
    },
    {
     "name": "stdout",
     "output_type": "stream",
     "text": [
      "> Extracting HOG features for train set, Monocyte class\n"
     ]
    },
    {
     "name": "stderr",
     "output_type": "stream",
     "text": [
      "100%|██████████| 561/561 [00:02<00:00, 245.51it/s]\n"
     ]
    },
    {
     "name": "stdout",
     "output_type": "stream",
     "text": [
      "> Extracting HOG features for train set, Neutrophil class\n"
     ]
    },
    {
     "name": "stderr",
     "output_type": "stream",
     "text": [
      "100%|██████████| 6231/6231 [00:27<00:00, 225.32it/s]\n"
     ]
    },
    {
     "name": "stdout",
     "output_type": "stream",
     "text": [
      "> Extracting HOG features for test set, Basophil class\n"
     ]
    },
    {
     "name": "stderr",
     "output_type": "stream",
     "text": [
      "100%|██████████| 89/89 [00:00<00:00, 215.52it/s]\n"
     ]
    },
    {
     "name": "stdout",
     "output_type": "stream",
     "text": [
      "> Extracting HOG features for test set, Eosinophil class\n"
     ]
    },
    {
     "name": "stderr",
     "output_type": "stream",
     "text": [
      "100%|██████████| 322/322 [00:02<00:00, 153.31it/s]\n"
     ]
    },
    {
     "name": "stdout",
     "output_type": "stream",
     "text": [
      "> Extracting HOG features for test set, Lymphocyte class\n"
     ]
    },
    {
     "name": "stderr",
     "output_type": "stream",
     "text": [
      "100%|██████████| 1034/1034 [00:06<00:00, 166.86it/s]\n"
     ]
    },
    {
     "name": "stdout",
     "output_type": "stream",
     "text": [
      "> Extracting HOG features for test set, Monocyte class\n"
     ]
    },
    {
     "name": "stderr",
     "output_type": "stream",
     "text": [
      "100%|██████████| 234/234 [00:01<00:00, 186.12it/s]\n"
     ]
    },
    {
     "name": "stdout",
     "output_type": "stream",
     "text": [
      "> Extracting HOG features for test set, Neutrophil class\n"
     ]
    },
    {
     "name": "stderr",
     "output_type": "stream",
     "text": [
      "100%|██████████| 2660/2660 [00:12<00:00, 208.53it/s]\n"
     ]
    }
   ],
   "source": [
    "extract_hog_features(train_images, train_metadata, split_set='train', prep='segm')\n",
    "extract_hog_features(test_images, test_metadata, split_set='test', prep='segm')"
   ]
  },
  {
   "cell_type": "code",
   "execution_count": 52,
   "metadata": {},
   "outputs": [
    {
     "name": "stdout",
     "output_type": "stream",
     "text": [
      "(2916,)\n"
     ]
    },
    {
     "data": {
      "image/png": "[encoded data removed]",
      "text/plain": [
       "<Figure size 640x480 with 1 Axes>"
      ]
     },
     "metadata": {},
     "output_type": "display_data"
    },
    {
     "data": {
      "image/png": "[encoded data removed]",
      "text/plain": [
       "<Figure size 640x480 with 1 Axes>"
      ]
     },
     "metadata": {},
     "output_type": "display_data"
    }
   ],
   "source": [
    "img = train_images[0]\n",
    "\n",
    "ggb = rgb_to_ggb(img)\n",
    "# clusters = kmeans_5.predict(ggb.reshape(-1, 3))\n",
    "# ggb = kmeans_5.cluster_centers_[clusters].reshape(img.shape)\n",
    "# ggb = ggb.round().astype(np.uint8)\n",
    "fd, viz = hog(ggb, channel_axis=2, visualize=True)\n",
    "print(fd.shape)\n",
    "plt.imshow(viz, cmap='gray')\n",
    "plt.show()\n",
    "plt.imshow(ggb)\n",
    "plt.show()"
   ]
  },
  {
   "cell_type": "code",
   "execution_count": 8,
   "metadata": {},
   "outputs": [
    {
     "data": {
      "text/plain": [
       "(6231, 17424)"
      ]
     },
     "execution_count": 8,
     "metadata": {},
     "output_type": "execute_result"
    }
   ],
   "source": [
    "X = np.load('../datasets/wbc/clean/hog_features_train_Neutrophil.npz')['arr_0']\n",
    "X.shape"
   ]
  },
  {
   "cell_type": "code",
   "execution_count": 11,
   "metadata": {},
   "outputs": [
    {
     "name": "stdout",
     "output_type": "stream",
     "text": [
      "                  train_images:  5.8 GiB\n",
      "                             X: 828.3 MiB\n",
      "                           ___: 28.2 MiB\n",
      "                            _6: 28.2 MiB\n",
      "                train_metadata:  1.7 MiB\n",
      "                          tqdm:  2.0 KiB\n",
      "                           _i4:  1.4 KiB\n",
      "                           _i2:  1.3 KiB\n",
      "                        KMeans:  1.0 KiB\n",
      "                          _i11:  587.0 B\n"
     ]
    }
   ],
   "source": [
    "import sys\n",
    "def sizeof_fmt(num, suffix='B'):\n",
    "    ''' by Fred Cirera,  https://stackoverflow.com/a/1094933/1870254, modified'''\n",
    "    for unit in ['','Ki','Mi','Gi','Ti','Pi','Ei','Zi']:\n",
    "        if abs(num) < 1024.0:\n",
    "            return \"%3.1f %s%s\" % (num, unit, suffix)\n",
    "        num /= 1024.0\n",
    "    return \"%.1f %s%s\" % (num, 'Yi', suffix)\n",
    "\n",
    "for name, size in sorted(((name, sys.getsizeof(value)) for name, value in locals().items()),\n",
    "                         key= lambda x: -x[1])[:10]:\n",
    "    print(\"{:>30}: {:>8}\".format(name, sizeof_fmt(size)))"
   ]
  }
 ],
 "metadata": {
  "kernelspec": {
   "display_name": "Python 3.9.7 64-bit",
   "language": "python",
   "name": "python3"
  },
  "language_info": {
   "codemirror_mode": {
    "name": "ipython",
    "version": 3
   },
   "file_extension": ".py",
   "mimetype": "text/x-python",
   "name": "python",
   "nbconvert_exporter": "python",
   "pygments_lexer": "ipython3",
   "version": "3.9.7"
  },
  "orig_nbformat": 4,
  "vscode": {
   "interpreter": {
    "hash": "0a49e14537b7988001a03e43587ac680f7fa26aa84eb0663fc28db19a49f86ad"
   }
  }
 },
 "nbformat": 4,
 "nbformat_minor": 2
}
