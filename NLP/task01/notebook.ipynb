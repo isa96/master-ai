{
 "cells": [
  {
   "cell_type": "code",
   "execution_count": 18,
   "metadata": {},
   "outputs": [],
   "source": [
    "import pandas as pd\n",
    "import spacy\n",
    "\n",
    "nlp = spacy.load(\"en_core_web_sm\")\n",
    "\n",
    "def process_query(query_text, df):\n",
    "    doc = nlp(query_text.lower())\n",
    "    \n",
    "    select_cols = []\n",
    "    from_table = \"\"\n",
    "    where_cond = \"\"\n",
    "    group_by_cols = []\n",
    "    order_by_cols = []\n",
    "    limit_num = None\n",
    "    \n",
    "    for token in doc:\n",
    "        if token.pos_ == \"VERB\":\n",
    "            verb = token\n",
    "            break\n",
    "    \n",
    "    for child in verb.children:\n",
    "        if child.dep_ == \"nsubj\":\n",
    "            # text = '_'.join(child.text).lower()\n",
    "            text = child.text\n",
    "            select_cols.append(text)\n",
    "        elif child.dep_ == \"dobj\":\n",
    "            # text = '_'.join(child.text).lower()\n",
    "            text = child.text\n",
    "            select_cols.append(text)\n",
    "        elif child.dep_ == \"prep\":\n",
    "            if child.text == \"from\":\n",
    "                from_table = verb.doc[child.i + 1:].text\n",
    "            elif child.text == \"by\":\n",
    "                group_by_cols = [tok.text for tok in child.children if tok.pos_ == \"NOUN\"]\n",
    "                order_by_cols = [tok.text for tok in child.children if tok.pos_ == \"ADJ\"]\n",
    "                if not order_by_cols:\n",
    "                    order_by_cols = group_by_cols\n",
    "            elif child.text == \"with\":\n",
    "                where_cond = verb.doc[child.i + 1:].text\n",
    "            elif child.text == \"limit\":\n",
    "                limit_num = int(child.nbor().text)\n",
    "    \n",
    "    query = \"df\"\n",
    "    if where_cond:\n",
    "        query += f\"[{where_cond}]\"\n",
    "    query += f\".sort_values(by={order_by_cols})\" if order_by_cols else \"\"\n",
    "    query += f\".groupby(by={group_by_cols}).mean()\" if group_by_cols else \"\"\n",
    "    query += f\"[{select_cols}]\"\n",
    "    query += f\".head({limit_num})\" if limit_num else \"\"\n",
    "\n",
    "    print(query)\n",
    "    \n",
    "    return eval(query)"
   ]
  },
  {
   "cell_type": "code",
   "execution_count": 20,
   "metadata": {},
   "outputs": [
    {
     "name": "stdout",
     "output_type": "stream",
     "text": [
      "df[['student_name']]\n",
      "  student_name\n",
      "0        Alice\n",
      "1          Bob\n",
      "2      Charlie\n"
     ]
    }
   ],
   "source": [
    "df = pd.DataFrame({\n",
    "    \"student_id\": [1, 2, 3],\n",
    "    \"student_name\": [\"Alice\", \"Bob\", \"Charlie\"],\n",
    "    \"student_grade\": [85, 92, 78]\n",
    "})\n",
    "\n",
    "query = \"Show student_name, and student_grade ordered by their grade\"\n",
    "result = process_query(query, df)\n",
    "print(result)"
   ]
  },
  {
   "cell_type": "code",
   "execution_count": 16,
   "metadata": {},
   "outputs": [
    {
     "name": "stdout",
     "output_type": "stream",
     "text": [
      "0    999\n",
      "1    799\n",
      "2    699\n",
      "3    699\n",
      "Name: price, dtype: int64\n"
     ]
    }
   ],
   "source": [
    "df = pd.DataFrame({\n",
    "    \"product_name\": [\"iPhone\", \"Samsung Galaxy\", \"Pixel\", \"OnePlus\"],\n",
    "    \"manufacturer\": [\"Apple\", \"Samsung\", \"Google\", \"OnePlus\"],\n",
    "    \"price\": [999, 799, 699, 699],\n",
    "    \"release_date\": [\"2021-09-14\", \"2021-01-29\", \"2019-10-15\", \"2021-03-23\"]\n",
    "})\n",
    "\n",
    "query = \"Show the average price of phones released in 2021 made by Samsung and Google\"\n",
    "result = process_query(query, df)\n",
    "print(result)"
   ]
  },
  {
   "cell_type": "code",
   "execution_count": null,
   "metadata": {},
   "outputs": [],
   "source": []
  }
 ],
 "metadata": {
  "kernelspec": {
   "display_name": "mka-nlp",
   "language": "python",
   "name": "python3"
  },
  "language_info": {
   "codemirror_mode": {
    "name": "ipython",
    "version": 3
   },
   "file_extension": ".py",
   "mimetype": "text/x-python",
   "name": "python",
   "nbconvert_exporter": "python",
   "pygments_lexer": "ipython3",
   "version": "3.11.0"
  },
  "orig_nbformat": 4,
  "vscode": {
   "interpreter": {
    "hash": "27b0b4736fe18d8c32dd1d19e871144e9d95cc5734b36b53527badff3ac81f01"
   }
  }
 },
 "nbformat": 4,
 "nbformat_minor": 2
}
